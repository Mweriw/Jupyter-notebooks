{
 "cells": [
  {
   "cell_type": "code",
   "execution_count": 1,
   "id": "0f4cb7fb",
   "metadata": {},
   "outputs": [],
   "source": [
    "import pandas as pd\n",
    "import numpy as np\n",
    "import matplotlib.pyplot as plt\n",
    "import seaborn as sns\n",
    "%matplotlib inline\n",
    "\n",
    "# importing normal distribution functions\n",
    "from scipy.stats import norm "
   ]
  },
  {
   "cell_type": "code",
   "execution_count": 2,
   "id": "f1f16275",
   "metadata": {},
   "outputs": [],
   "source": [
    "spreadsheet = pd.read_csv(\"C:/Users/Elvys/Downloads/MSFT.csv\")"
   ]
  },
  {
   "cell_type": "code",
   "execution_count": 3,
   "id": "b2c10c9c",
   "metadata": {},
   "outputs": [
    {
     "data": {
      "text/html": [
       "<div>\n",
       "<style scoped>\n",
       "    .dataframe tbody tr th:only-of-type {\n",
       "        vertical-align: middle;\n",
       "    }\n",
       "\n",
       "    .dataframe tbody tr th {\n",
       "        vertical-align: top;\n",
       "    }\n",
       "\n",
       "    .dataframe thead th {\n",
       "        text-align: right;\n",
       "    }\n",
       "</style>\n",
       "<table border=\"1\" class=\"dataframe\">\n",
       "  <thead>\n",
       "    <tr style=\"text-align: right;\">\n",
       "      <th></th>\n",
       "      <th>Date</th>\n",
       "      <th>Open</th>\n",
       "      <th>High</th>\n",
       "      <th>Low</th>\n",
       "      <th>Close</th>\n",
       "      <th>Adj Close</th>\n",
       "      <th>Volume</th>\n",
       "    </tr>\n",
       "  </thead>\n",
       "  <tbody>\n",
       "    <tr>\n",
       "      <th>0</th>\n",
       "      <td>2020-01-10</td>\n",
       "      <td>162.820007</td>\n",
       "      <td>163.220001</td>\n",
       "      <td>161.179993</td>\n",
       "      <td>161.339996</td>\n",
       "      <td>159.648727</td>\n",
       "      <td>20725900</td>\n",
       "    </tr>\n",
       "    <tr>\n",
       "      <th>1</th>\n",
       "      <td>2020-01-13</td>\n",
       "      <td>161.759995</td>\n",
       "      <td>163.309998</td>\n",
       "      <td>161.259995</td>\n",
       "      <td>163.279999</td>\n",
       "      <td>161.568405</td>\n",
       "      <td>21626500</td>\n",
       "    </tr>\n",
       "    <tr>\n",
       "      <th>2</th>\n",
       "      <td>2020-01-14</td>\n",
       "      <td>163.389999</td>\n",
       "      <td>163.600006</td>\n",
       "      <td>161.720001</td>\n",
       "      <td>162.130005</td>\n",
       "      <td>160.430450</td>\n",
       "      <td>23477400</td>\n",
       "    </tr>\n",
       "    <tr>\n",
       "      <th>3</th>\n",
       "      <td>2020-01-15</td>\n",
       "      <td>162.619995</td>\n",
       "      <td>163.940002</td>\n",
       "      <td>162.570007</td>\n",
       "      <td>163.179993</td>\n",
       "      <td>161.469452</td>\n",
       "      <td>21417900</td>\n",
       "    </tr>\n",
       "    <tr>\n",
       "      <th>4</th>\n",
       "      <td>2020-01-16</td>\n",
       "      <td>164.350006</td>\n",
       "      <td>166.240005</td>\n",
       "      <td>164.029999</td>\n",
       "      <td>166.169998</td>\n",
       "      <td>164.428116</td>\n",
       "      <td>23865400</td>\n",
       "    </tr>\n",
       "  </tbody>\n",
       "</table>\n",
       "</div>"
      ],
      "text/plain": [
       "         Date        Open        High         Low       Close   Adj Close  \\\n",
       "0  2020-01-10  162.820007  163.220001  161.179993  161.339996  159.648727   \n",
       "1  2020-01-13  161.759995  163.309998  161.259995  163.279999  161.568405   \n",
       "2  2020-01-14  163.389999  163.600006  161.720001  162.130005  160.430450   \n",
       "3  2020-01-15  162.619995  163.940002  162.570007  163.179993  161.469452   \n",
       "4  2020-01-16  164.350006  166.240005  164.029999  166.169998  164.428116   \n",
       "\n",
       "     Volume  \n",
       "0  20725900  \n",
       "1  21626500  \n",
       "2  23477400  \n",
       "3  21417900  \n",
       "4  23865400  "
      ]
     },
     "execution_count": 3,
     "metadata": {},
     "output_type": "execute_result"
    }
   ],
   "source": [
    " #\n",
    "    spreadsheet.head()"
   ]
  },
  {
   "cell_type": "code",
   "execution_count": 4,
   "id": "baefba2c",
   "metadata": {},
   "outputs": [
    {
     "data": {
      "text/plain": [
       "(252, 7)"
      ]
     },
     "execution_count": 4,
     "metadata": {},
     "output_type": "execute_result"
    }
   ],
   "source": [
    "# checking the shape of the data\n",
    "spreadsheet.shape"
   ]
  },
  {
   "cell_type": "code",
   "execution_count": 5,
   "id": "c9744679",
   "metadata": {},
   "outputs": [
    {
     "name": "stdout",
     "output_type": "stream",
     "text": [
      "<class 'pandas.core.frame.DataFrame'>\n",
      "RangeIndex: 252 entries, 0 to 251\n",
      "Data columns (total 7 columns):\n",
      " #   Column     Non-Null Count  Dtype  \n",
      "---  ------     --------------  -----  \n",
      " 0   Date       252 non-null    object \n",
      " 1   Open       252 non-null    float64\n",
      " 2   High       252 non-null    float64\n",
      " 3   Low        252 non-null    float64\n",
      " 4   Close      252 non-null    float64\n",
      " 5   Adj Close  252 non-null    float64\n",
      " 6   Volume     252 non-null    int64  \n",
      "dtypes: float64(5), int64(1), object(1)\n",
      "memory usage: 13.9+ KB\n"
     ]
    }
   ],
   "source": [
    "# inspecting the dataset\n",
    "spreadsheet.info()"
   ]
  },
  {
   "cell_type": "code",
   "execution_count": 6,
   "id": "ad1a8230",
   "metadata": {},
   "outputs": [
    {
     "data": {
      "text/plain": [
       "Date         0\n",
       "Open         0\n",
       "High         0\n",
       "Low          0\n",
       "Close        0\n",
       "Adj Close    0\n",
       "Volume       0\n",
       "dtype: int64"
      ]
     },
     "execution_count": 6,
     "metadata": {},
     "output_type": "execute_result"
    }
   ],
   "source": [
    "# checking for missing values\n",
    "spreadsheet.isnull().sum()"
   ]
  },
  {
   "cell_type": "code",
   "execution_count": 7,
   "id": "fc18969d",
   "metadata": {},
   "outputs": [],
   "source": [
    "# let's calculate log daily return for Microsoft data\n",
    "spreadsheet['LogReturn'] = np.log(spreadsheet['Close'])-np.log(spreadsheet['Close']).shift(1)"
   ]
  },
  {
   "cell_type": "code",
   "execution_count": 8,
   "id": "7c1ffc85",
   "metadata": {},
   "outputs": [
    {
     "data": {
      "text/plain": [
       "0           NaN\n",
       "1      0.011953\n",
       "2     -0.007068\n",
       "3      0.006455\n",
       "4      0.018158\n",
       "         ...   \n",
       "247   -0.021495\n",
       "248    0.000964\n",
       "249   -0.026271\n",
       "250    0.028060\n",
       "251    0.006074\n",
       "Name: LogReturn, Length: 252, dtype: float64"
      ]
     },
     "execution_count": 8,
     "metadata": {},
     "output_type": "execute_result"
    }
   ],
   "source": [
    "spreadsheet['LogReturn']"
   ]
  },
  {
   "cell_type": "code",
   "execution_count": 9,
   "id": "721253ba",
   "metadata": {},
   "outputs": [],
   "source": [
    "#mean\n",
    "mu = spreadsheet['LogReturn'].mean()\n",
    "#standard deviation\n",
    "sigma = spreadsheet['LogReturn'].std(ddof=1)"
   ]
  },
  {
   "cell_type": "code",
   "execution_count": 10,
   "id": "6dfa3aef",
   "metadata": {},
   "outputs": [
    {
     "data": {
      "text/plain": [
       "0           NaN\n",
       "1      0.011953\n",
       "2     -0.007068\n",
       "3      0.006455\n",
       "4      0.018158\n",
       "         ...   \n",
       "247   -0.021495\n",
       "248    0.000964\n",
       "249   -0.026271\n",
       "250    0.028060\n",
       "251    0.006074\n",
       "Name: LogReturn, Length: 252, dtype: float64"
      ]
     },
     "execution_count": 10,
     "metadata": {},
     "output_type": "execute_result"
    }
   ],
   "source": [
    "spreadsheet['LogReturn']"
   ]
  },
  {
   "cell_type": "code",
   "execution_count": 11,
   "id": "cb106fc5",
   "metadata": {},
   "outputs": [
    {
     "ename": "NameError",
     "evalue": "name 'ms' is not defined",
     "output_type": "error",
     "traceback": [
      "\u001b[1;31m---------------------------------------------------------------------------\u001b[0m",
      "\u001b[1;31mNameError\u001b[0m                                 Traceback (most recent call last)",
      "Input \u001b[1;32mIn [11]\u001b[0m, in \u001b[0;36m<cell line: 7>\u001b[1;34m()\u001b[0m\n\u001b[0;32m      4\u001b[0m density[\u001b[38;5;124m'\u001b[39m\u001b[38;5;124mx\u001b[39m\u001b[38;5;124m'\u001b[39m] \u001b[38;5;241m=\u001b[39m np\u001b[38;5;241m.\u001b[39marange(spreadsheet[\u001b[38;5;124m'\u001b[39m\u001b[38;5;124mLogReturn\u001b[39m\u001b[38;5;124m'\u001b[39m]\u001b[38;5;241m.\u001b[39mmin(), spreadsheet[\u001b[38;5;124m'\u001b[39m\u001b[38;5;124mLogReturn\u001b[39m\u001b[38;5;124m'\u001b[39m]\u001b[38;5;241m.\u001b[39mmax(), \u001b[38;5;241m0.001\u001b[39m)\n\u001b[0;32m      5\u001b[0m density[\u001b[38;5;124m'\u001b[39m\u001b[38;5;124mpdf\u001b[39m\u001b[38;5;124m'\u001b[39m] \u001b[38;5;241m=\u001b[39m norm\u001b[38;5;241m.\u001b[39mpdf(density[\u001b[38;5;124m'\u001b[39m\u001b[38;5;124mx\u001b[39m\u001b[38;5;124m'\u001b[39m], mu, sigma)\n\u001b[1;32m----> 7\u001b[0m sns\u001b[38;5;241m.\u001b[39mhistplot(\u001b[43mms\u001b[49m[\u001b[38;5;124m'\u001b[39m\u001b[38;5;124mLogReturn\u001b[39m\u001b[38;5;124m'\u001b[39m], kde \u001b[38;5;241m=\u001b[39m \u001b[38;5;28;01mTrue\u001b[39;00m, stat \u001b[38;5;241m=\u001b[39m \u001b[38;5;124m'\u001b[39m\u001b[38;5;124mdensity\u001b[39m\u001b[38;5;124m'\u001b[39m)\n\u001b[0;32m      8\u001b[0m plt\u001b[38;5;241m.\u001b[39mplot(density[\u001b[38;5;124m'\u001b[39m\u001b[38;5;124mx\u001b[39m\u001b[38;5;124m'\u001b[39m], density[\u001b[38;5;124m'\u001b[39m\u001b[38;5;124mpdf\u001b[39m\u001b[38;5;124m'\u001b[39m], color\u001b[38;5;241m=\u001b[39m\u001b[38;5;124m'\u001b[39m\u001b[38;5;124mred\u001b[39m\u001b[38;5;124m'\u001b[39m)\n\u001b[0;32m      9\u001b[0m plt\u001b[38;5;241m.\u001b[39mshow()\n",
      "\u001b[1;31mNameError\u001b[0m: name 'ms' is not defined"
     ]
    }
   ],
   "source": [
    "# Plot a histogram to show the distribution of log return of Microsoft's stock. \n",
    "\n",
    "density = pd.DataFrame()\n",
    "density['x'] = np.arange(spreadsheet['LogReturn'].min(), spreadsheet['LogReturn'].max(), 0.001)\n",
    "density['pdf'] = norm.pdf(density['x'], mu, sigma)\n",
    "\n",
    "sns.histplot(ms['LogReturn'], kde = True, stat = 'density')\n",
    "plt.plot(density['x'], density['pdf'], color='red')\n",
    "plt.show()"
   ]
  },
  {
   "cell_type": "code",
   "execution_count": 12,
   "id": "974774a7",
   "metadata": {},
   "outputs": [
    {
     "data": {
      "image/png": "[encoded data removed]",
      "text/plain": [
       "<Figure size 432x288 with 1 Axes>"
      ]
     },
     "metadata": {
      "needs_background": "light"
     },
     "output_type": "display_data"
    }
   ],
   "source": [
    "# Plot a histogram to show the distribution of log return of Microsoft's stock. \n",
    "\n",
    "density = pd.DataFrame()\n",
    "density['x'] = np.arange(spreadsheet['LogReturn'].min(), spreadsheet['LogReturn'].max(), 0.001)\n",
    "density['pdf'] = norm.pdf(density['x'], mu, sigma)\n",
    "\n",
    "sns.histplot(spreadsheet['LogReturn'], kde = True, stat = 'density')\n",
    "plt.plot(density['x'], density['pdf'], color='red')\n",
    "plt.show()"
   ]
  },
  {
   "cell_type": "code",
   "execution_count": 13,
   "id": "0fcdc16b",
   "metadata": {},
   "outputs": [
    {
     "name": "stdout",
     "output_type": "stream",
     "text": [
      "The required probability that the stock price will drop over 5% in a day is 0.033181437344865984\n"
     ]
    }
   ],
   "source": [
    "# We are to calculate P(X<=-0.05)\n",
    "prob_drop5_day = norm.cdf(-0.05,loc=mu, scale=sigma)\n",
    "print('The required probability that the stock price will drop over 5% in a day is '+ str(prob_drop5_day))"
   ]
  },
  {
   "cell_type": "code",
   "execution_count": 14,
   "id": "c52582fb",
   "metadata": {},
   "outputs": [
    {
     "name": "stdout",
     "output_type": "stream",
     "text": [
      "The probability that the stock price will drop over 50% in a year is 0.03366022235185039\n"
     ]
    }
   ],
   "source": [
    "# calculating mean and standard deviation for yearly log-return\n",
    "mu_yearly = mu * 250\n",
    "sigma_yearly = sigma * np.sqrt(250) \n",
    "# We are to calculate P(X<=0.5)\n",
    "prob_drop50_year=norm.cdf(-0.5, mu_yearly, sigma_yearly)\n",
    "print('The probability that the stock price will drop over 50% in a year is '+ str(prob_drop50_year) )"
   ]
  },
  {
   "cell_type": "code",
   "execution_count": 15,
   "id": "698c7261",
   "metadata": {},
   "outputs": [
    {
     "name": "stdout",
     "output_type": "stream",
     "text": [
      "The probability that the stock price will drop over 25% in a year is 0.10331797034715662\n"
     ]
    }
   ],
   "source": [
    "# We are to calculate P(X<=25)\n",
    "prob_drop25_year=norm.cdf(-0.25, mu_yearly, sigma_yearly)\n",
    "print('The probability that the stock price will drop over 25% in a year is '+ str(prob_drop25_year))"
   ]
  },
  {
   "cell_type": "code",
   "execution_count": null,
   "id": "0d049e0e",
   "metadata": {},
   "outputs": [],
   "source": []
  }
 ],
 "metadata": {
  "kernelspec": {
   "display_name": "Python 3 (ipykernel)",
   "language": "python",
   "name": "python3"
  },
  "language_info": {
   "codemirror_mode": {
    "name": "ipython",
    "version": 3
   },
   "file_extension": ".py",
   "mimetype": "text/x-python",
   "name": "python",
   "nbconvert_exporter": "python",
   "pygments_lexer": "ipython3",
   "version": "3.9.12"
  }
 },
 "nbformat": 4,
 "nbformat_minor": 5
}
